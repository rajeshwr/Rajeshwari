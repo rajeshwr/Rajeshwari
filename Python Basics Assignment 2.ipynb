{
 "cells": [
  {
   "cell_type": "markdown",
   "metadata": {},
   "source": [
    "1.What are the two values of the Boolean data type? How do you write them?\n",
    "The two values of the Boolean Type are True and False.\n",
    "We write them by using T and F followed by rest of the word in lower case"
   ]
  },
  {
   "cell_type": "markdown",
   "metadata": {},
   "source": [
    "2. What are the three different types of Boolean operators?\n",
    "The three different types of Boolean Operators are and, or, not"
   ]
  },
  {
   "cell_type": "markdown",
   "metadata": {},
   "source": [
    "3. Make a list of each Boolean operator's truth tables (i.e. every possible combination of Boolean values for the operator and what it evaluate ).\n",
    "True and True= True\n",
    "True and False= False\n",
    "False and False= False\n",
    "False and True= False\n",
    "True or True = True\n",
    "True or False= True\n",
    "False or True = True\n",
    "False or False = False\n",
    "Not True = False\n",
    "Not False= True"
   ]
  },
  {
   "cell_type": "markdown",
   "metadata": {},
   "source": [
    "4. What are the values of the following expressions?\n",
    "(5 > 4) and (3 == 5)= False\n",
    "not (5 > 4)=not True= False\n",
    "(5 > 4) or (3 == 5) = True\n",
    "not ((5 > 4) or (3 == 5)) = False\n",
    "(True and True) and (True == False)  =  False\n",
    "(not False) or (not True) = True"
   ]
  },
  {
   "cell_type": "markdown",
   "metadata": {},
   "source": [
    "5. What are the six comparison operators?\n",
    "•\t== -> compare if True\n",
    "•\t!= -> compare if not True\n",
    "•\t< -> check if less than\n",
    "•\t> -> check If greater than\n",
    "•\t<= -> check if lesser or equal to\n",
    "•\t>= -> check if greater or equal to"
   ]
  },
  {
   "cell_type": "markdown",
   "metadata": {},
   "source": [
    "6. How do you tell the difference between the equal to and assignment operators? Describe a condition and when you would use one.\n",
    "== is the equal to operator used to compare two values and evaluates to a Boolean.\n",
    "= is the assignment operator that stores a value in a variable\n",
    "The condition is an expression used in a flow control statement that evaluates to a boolean value which it could be used in If, else, for and while loop\n",
    "Ex a=10 and b=15\n",
    "if a==b:\n",
    "print(‘They are equal’)\n",
    "else:\n",
    "print(‘b is larger’)"
   ]
  },
  {
   "cell_type": "markdown",
   "metadata": {},
   "source": [
    "7. Identify the three blocks in this code:\n",
    "spam = 0\n",
    "if spam == 10:\n",
    "print('eggs')\n",
    "if spam > 5:\n",
    "print('bacon')\n",
    "else:\n",
    "print('ham')\n",
    "print('spam')\n",
    "print('spam')\n",
    "The three blocks are everything inside an if statement and the lines print(‘bacon’) and print(‘ham’)\n",
    "print('eggs')\n",
    "if spam > 5:\n",
    "print('bacon')\n",
    "else:\n",
    "print('ham')\n",
    "print('spam')"
   ]
  },
  {
   "cell_type": "markdown",
   "metadata": {},
   "source": [
    "8. Write code that prints Hello if 1 is stored in spam, prints Howdy if 2 is stored in spam, and prints Greetings! if anything else is stored in spam.\n",
    "Spam = input(‘Enter a number’)\n",
    "if spam==1:\n",
    "print(‘Hello)\n",
    "elif if spam==2:\n",
    "print(‘Howdy’)\n",
    "else:\n",
    "print(‘Greetings!’)"
   ]
  },
  {
   "cell_type": "markdown",
   "metadata": {},
   "source": [
    "9.If your programme is stuck in an endless loop, what keys you’ll press?\n",
    "Press Ctrl and C to stop a programme if stuck in endless loop."
   ]
  },
  {
   "cell_type": "markdown",
   "metadata": {},
   "source": [
    "10. How can you tell the difference between break and continue?\n",
    "The break statement will move the execution outside and  just after the loop and the continue statement \n",
    "will move the execution to start of the loop."
   ]
  },
  {
   "cell_type": "markdown",
   "metadata": {},
   "source": [
    "11. In a for loop, what is the difference between range(10), range(0, 10), and range(0, 10, 1)?\n",
    "They all do the same thing. The range(10)  ranges from 0 up to 9 (not including 10), range(0, 10) tells the loop to start at 0, and range(0, 10, 1) tells the loop to increase the variable by 1 on each iteration."
   ]
  },
  {
   "cell_type": "markdown",
   "metadata": {},
   "source": [
    "12. Write a short program that prints the numbers 1 to 10 using a for loop. Then write an equivalent program that prints the numbers 1 to 10 using a while loop.\n",
    "1) for i in range(1,11):\n",
    "print(i)\n",
    "2) i=10\n",
    "while i<=10:\n",
    "print(i)\n",
    "i=i+1"
   ]
  },
  {
   "cell_type": "markdown",
   "metadata": {},
   "source": [
    "13. If you had a function named bacon() inside a module named spam, how would you call it after importing spam?\n",
    "The function can be called spam.bacon()"
   ]
  }
 ],
 "metadata": {
  "kernelspec": {
   "display_name": "Python 3",
   "language": "python",
   "name": "python3"
  },
  "language_info": {
   "codemirror_mode": {
    "name": "ipython",
    "version": 3
   },
   "file_extension": ".py",
   "mimetype": "text/x-python",
   "name": "python",
   "nbconvert_exporter": "python",
   "pygments_lexer": "ipython3",
   "version": "3.8.5"
  }
 },
 "nbformat": 4,
 "nbformat_minor": 4
}
